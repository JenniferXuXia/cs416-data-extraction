{
 "cells": [
  {
   "cell_type": "code",
   "execution_count": 18,
   "metadata": {},
   "outputs": [],
   "source": [
    "import spotipy\n",
    "import pandas as pd\n",
    "import numpy as np"
   ]
  },
  {
   "cell_type": "code",
   "execution_count": 19,
   "metadata": {},
   "outputs": [],
   "source": [
    "from dotenv import load_dotenv\n",
    "import os\n",
    "\n",
    "load_dotenv()\n",
    "\n",
    "cid = os.getenv(\"SPOTIFY_CLIENT_ID\")\n",
    "secret = os.getenv(\"SPOTIFY_CLIENT_SECRET\")\n",
    "\n",
    "from spotipy.oauth2 import SpotifyClientCredentials\n",
    "\n",
    "client_credentials_manager = SpotifyClientCredentials(client_id=cid, client_secret=secret)\n",
    "sp = spotipy.Spotify(client_credentials_manager=client_credentials_manager)"
   ]
  },
  {
   "cell_type": "code",
   "execution_count": 20,
   "metadata": {},
   "outputs": [],
   "source": [
    "# Get Billie Eilish's discography\n",
    "\n",
    "artist_uri = 'spotify:artist:6qqNVTkY8uBg9cP3Jd7DAH'\n",
    "album_results = sp.artist_albums(artist_uri, album_type='album')\n",
    "albums = album_results['items']\n",
    "while album_results['next']:\n",
    "    album_results = sp.next(album_results)\n",
    "    albums.extend(album_results['items'])"
   ]
  },
  {
   "cell_type": "code",
   "execution_count": 21,
   "metadata": {},
   "outputs": [
    {
     "name": "stdout",
     "output_type": "stream",
     "text": [
      "Billie Eilish's discography:\n",
      "HIT ME HARD AND SOFT\n",
      "Happier Than Ever\n",
      "WHEN WE ALL FALL ASLEEP, WHERE DO WE GO?\n"
     ]
    }
   ],
   "source": [
    "print(\"Billie Eilish's discography:\")\n",
    "for album in albums:\n",
    "    print(album['name'])"
   ]
  },
  {
   "cell_type": "code",
   "execution_count": 26,
   "metadata": {},
   "outputs": [],
   "source": [
    "# Create dataframe for each song of each album\n",
    "\n",
    "songs = []\n",
    "for album in albums:\n",
    "    album_uri = album['uri']\n",
    "    tracks = sp.album_tracks(album_uri)['items']\n",
    "    for track in tracks:\n",
    "        song = {}\n",
    "        # song metadata\n",
    "        song['name'] = track['name']\n",
    "        song['track_number'] = track['track_number']\n",
    "        song['album'] = album['name']\n",
    "        song['release_date'] = album['release_date']\n",
    "\n",
    "        track_uri = track['uri']\n",
    "        # song features\n",
    "        features = sp.audio_features(track_uri)[0]\n",
    "        song['danceability'] = features['danceability']\n",
    "        song['energy'] = features['energy']\n",
    "        song['key'] = 'minor' if features['mode'] == 0 else 'major'\n",
    "        song['loudness'] = features['loudness']\n",
    "        song['mode'] = features['mode']\n",
    "        song['speechiness'] = features['speechiness']\n",
    "        song['acousticness'] = features['acousticness']\n",
    "        song['instrumentalness'] = features['instrumentalness']\n",
    "        song['liveness'] = features['liveness']\n",
    "        song['valence'] = features['valence']\n",
    "        song['tempo'] = features['tempo']\n",
    "\n",
    "        songs.append(song)\n",
    "\n",
    "df = pd.DataFrame(songs)\n",
    "df['release_date'] = pd.to_datetime(df['release_date'])\n",
    "df['year'] = df['release_date'].dt.year"
   ]
  },
  {
   "cell_type": "code",
   "execution_count": 29,
   "metadata": {},
   "outputs": [],
   "source": [
    "df.to_csv('billie_eilish_discography.csv', index=False)"
   ]
  }
 ],
 "metadata": {
  "kernelspec": {
   "display_name": ".venv",
   "language": "python",
   "name": "python3"
  },
  "language_info": {
   "codemirror_mode": {
    "name": "ipython",
    "version": 3
   },
   "file_extension": ".py",
   "mimetype": "text/x-python",
   "name": "python",
   "nbconvert_exporter": "python",
   "pygments_lexer": "ipython3",
   "version": "3.10.12"
  }
 },
 "nbformat": 4,
 "nbformat_minor": 2
}
